{
 "cells": [
  {
   "cell_type": "code",
   "execution_count": 3,
   "metadata": {},
   "outputs": [],
   "source": [
    "import itertools\n",
    "import matplotlib as mpl\n",
    "import matplotlib.pyplot as plt\n",
    "from scipy import linalg\n",
    "import numpy as np\n",
    "from sklearn import datasets\n",
    "from sklearn.mixture import GaussianMixture\n",
    "from sklearn.model_selection import StratifiedKFold\n",
    "from sklearn.cluster import KMeans\n",
    "from sklearn.metrics.pairwise import pairwise_distances_argmin\n",
    "import pandas as pd"
   ]
  },
  {
   "cell_type": "code",
   "execution_count": 9,
   "metadata": {},
   "outputs": [
    {
     "data": {
      "text/plain": [
       "<matplotlib.figure.Figure at 0x7f65f8132390>"
      ]
     },
     "metadata": {},
     "output_type": "display_data"
    },
    {
     "data": {
      "text/plain": [
       "<matplotlib.figure.Figure at 0x7f65f80d14d0>"
      ]
     },
     "metadata": {},
     "output_type": "display_data"
    },
    {
     "data": {
      "text/plain": [
       "<matplotlib.figure.Figure at 0x7f65bdb4f110>"
      ]
     },
     "metadata": {},
     "output_type": "display_data"
    },
    {
     "data": {
      "text/plain": [
       "<matplotlib.figure.Figure at 0x7f65f80d1450>"
      ]
     },
     "metadata": {},
     "output_type": "display_data"
    },
    {
     "data": {
      "image/png": "[encoded data removed]",
      "text/plain": [
       "<matplotlib.figure.Figure at 0x7f65bdace650>"
      ]
     },
     "metadata": {},
     "output_type": "display_data"
    },
    {
     "data": {
      "image/png": "[encoded data removed]",
      "text/plain": [
       "<matplotlib.figure.Figure at 0x7f65f80d1710>"
      ]
     },
     "metadata": {},
     "output_type": "display_data"
    }
   ],
   "source": [
    "colors = ['navy', 'turquoise', 'darkorange']\n",
    "\n",
    "def ellipse(GMM, axis) :\n",
    "    for n, color in enumerate(colors):\n",
    "        if GMM.covariance_type == 'full':\n",
    "            covariances = GMM.covariances_[n][:2, :2]\n",
    "        elif GMM.covariance_type == 'tied':\n",
    "            covariances = GMM.covariances_[:2, :2]\n",
    "        elif GMM.covariance_type == 'diag':\n",
    "            covariances = np.diag(GMM.covariances_[n][:2])\n",
    "        elif GMM.covariance_type == 'spherical':\n",
    "            covariances = np.eye(GMM.means_.shape[1]) * GMM.covariances_[n]\n",
    "        v, w = np.linalg.eigh(covariances)\n",
    "        u = w[0] / np.linalg.norm(w[0])\n",
    "        angle = np.arctan2(u[1], u[0])\n",
    "        angle = 180 * angle / np.pi  # convert to degrees\n",
    "        v = 2. * np.sqrt(2.) * np.sqrt(v)\n",
    "        ell = mpl.patches.Ellipse(GMM.means_[n, :2], v[0], v[1],\n",
    "                                  180 + angle, color=color)\n",
    "        ell.set_clip_box(axis.bbox)\n",
    "        ell.set_alpha(0.5)\n",
    "        axis.add_artist(ell)\n",
    "\n",
    "X = pd.read_csv('datauser.csv', sep=',',header=0)\n",
    "kmean = KMeans(n_clusters = 3)\n",
    "kmean.fit(X)\n",
    "\n",
    "GMM = GaussianMixture(n_components = 5, covariance_type = 'full',\n",
    "                      init_params = 'kmeans')\n",
    "GMM.fit(X)\n",
    "plot = plt.figure(figsize = (8,3))\n",
    "plot.subplots_adjust(left = 0.02, right = 0.98, bottom = 0.05, top = 0.9)\n",
    "colors = ['#4EACC5', '#FF9C34', '#4E9A06']\n",
    "\n",
    "cluster_centers = np.sort(kmean.cluster_centers_, axis=0)\n",
    "labels = pairwise_distances_argmin(X, cluster_centers)\n",
    "X = X.values\n",
    "axis = plot.add_subplot(1, 3, 1)\n",
    "for k, col in zip(range(3), colors):\n",
    "    my_members = labels == k\n",
    "    c_center = cluster_centers[k]\n",
    "    axis.plot(X[my_members, 0], X[my_members, 1], 'w',\n",
    "            markerfacecolor=col, marker='.')\n",
    "    axis.plot(c_center[0], c_center[1], 'o', markerfacecolor=col,\n",
    "            markeredgecolor='k', markersize=6)\n",
    "axis.set_xticks(())\n",
    "axis.set_yticks(())\n",
    "plt.show()\n",
    "for n, color in enumerate(colors):\n",
    "    plt.scatter(X[:, 0], GMM.predict(X), s=0.8, color=color,\n",
    "                label=labels)\n",
    "plt.show()"
   ]
  },
  {
   "cell_type": "code",
   "execution_count": null,
   "metadata": {},
   "outputs": [],
   "source": []
  }
 ],
 "metadata": {
  "kernelspec": {
   "display_name": "Python 2",
   "language": "python",
   "name": "python2"
  },
  "language_info": {
   "codemirror_mode": {
    "name": "ipython",
    "version": 2
   },
   "file_extension": ".py",
   "mimetype": "text/x-python",
   "name": "python",
   "nbconvert_exporter": "python",
   "pygments_lexer": "ipython2",
   "version": "2.7.12"
  }
 },
 "nbformat": 4,
 "nbformat_minor": 2
}
